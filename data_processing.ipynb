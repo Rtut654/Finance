{
 "cells": [
  {
   "cell_type": "code",
   "execution_count": 1,
   "metadata": {},
   "outputs": [],
   "source": [
    "import pandas as pd\n",
    "import numpy as np"
   ]
  },
  {
   "cell_type": "code",
   "execution_count": 24,
   "metadata": {},
   "outputs": [
    {
     "data": {
      "text/html": [
       "<div>\n",
       "<style scoped>\n",
       "    .dataframe tbody tr th:only-of-type {\n",
       "        vertical-align: middle;\n",
       "    }\n",
       "\n",
       "    .dataframe tbody tr th {\n",
       "        vertical-align: top;\n",
       "    }\n",
       "\n",
       "    .dataframe thead th {\n",
       "        text-align: right;\n",
       "    }\n",
       "</style>\n",
       "<table border=\"1\" class=\"dataframe\">\n",
       "  <thead>\n",
       "    <tr style=\"text-align: right;\">\n",
       "      <th></th>\n",
       "      <th>Unnamed: 0</th>\n",
       "      <th>Unnamed: 0.1</th>\n",
       "      <th>Release Date</th>\n",
       "      <th>Period End</th>\n",
       "      <th>EPS</th>\n",
       "      <th>Forecast</th>\n",
       "      <th>Revenue</th>\n",
       "      <th>Forecast.1</th>\n",
       "      <th>ticker</th>\n",
       "      <th>Cash and cash equivalents</th>\n",
       "      <th>...</th>\n",
       "      <th>4d_after_open</th>\n",
       "      <th>4d_after_high</th>\n",
       "      <th>4d_after_low</th>\n",
       "      <th>4d_after_close</th>\n",
       "      <th>4d_after_volume</th>\n",
       "      <th>5d_after_open</th>\n",
       "      <th>5d_after_high</th>\n",
       "      <th>5d_after_low</th>\n",
       "      <th>5d_after_close</th>\n",
       "      <th>5d_after_volume</th>\n",
       "    </tr>\n",
       "  </thead>\n",
       "  <tbody>\n",
       "    <tr>\n",
       "      <th>0</th>\n",
       "      <td>0</td>\n",
       "      <td>0</td>\n",
       "      <td>2020-02-20</td>\n",
       "      <td>2019-12-01</td>\n",
       "      <td>--</td>\n",
       "      <td>0.28</td>\n",
       "      <td>--</td>\n",
       "      <td>968.66M</td>\n",
       "      <td>VTR</td>\n",
       "      <td>0.0</td>\n",
       "      <td>...</td>\n",
       "      <td>0.00</td>\n",
       "      <td>0.0000</td>\n",
       "      <td>0.00</td>\n",
       "      <td>0.00</td>\n",
       "      <td>0.0</td>\n",
       "      <td>0.00</td>\n",
       "      <td>0.00</td>\n",
       "      <td>0.0000</td>\n",
       "      <td>0.00</td>\n",
       "      <td>0.0</td>\n",
       "    </tr>\n",
       "    <tr>\n",
       "      <th>1</th>\n",
       "      <td>1</td>\n",
       "      <td>1</td>\n",
       "      <td>2019-10-25</td>\n",
       "      <td>2019-09-01</td>\n",
       "      <td>0.23</td>\n",
       "      <td>0.32</td>\n",
       "      <td>983.16M</td>\n",
       "      <td>931.93M</td>\n",
       "      <td>VTR</td>\n",
       "      <td>148063000.0</td>\n",
       "      <td>...</td>\n",
       "      <td>65.21</td>\n",
       "      <td>65.7100</td>\n",
       "      <td>64.63</td>\n",
       "      <td>65.10</td>\n",
       "      <td>2122092.0</td>\n",
       "      <td>65.12</td>\n",
       "      <td>65.30</td>\n",
       "      <td>63.1488</td>\n",
       "      <td>64.03</td>\n",
       "      <td>2114593.0</td>\n",
       "    </tr>\n",
       "    <tr>\n",
       "      <th>2</th>\n",
       "      <td>2</td>\n",
       "      <td>2</td>\n",
       "      <td>2019-07-26</td>\n",
       "      <td>2019-06-01</td>\n",
       "      <td>0.58</td>\n",
       "      <td>0.32</td>\n",
       "      <td>950.72M</td>\n",
       "      <td>922.96M</td>\n",
       "      <td>VTR</td>\n",
       "      <td>81987000.0</td>\n",
       "      <td>...</td>\n",
       "      <td>67.33</td>\n",
       "      <td>67.9500</td>\n",
       "      <td>66.51</td>\n",
       "      <td>67.67</td>\n",
       "      <td>2069256.0</td>\n",
       "      <td>67.76</td>\n",
       "      <td>69.18</td>\n",
       "      <td>67.7600</td>\n",
       "      <td>68.83</td>\n",
       "      <td>1749714.0</td>\n",
       "    </tr>\n",
       "    <tr>\n",
       "      <th>3</th>\n",
       "      <td>3</td>\n",
       "      <td>3</td>\n",
       "      <td>2019-04-26</td>\n",
       "      <td>2019-03-01</td>\n",
       "      <td>0.35</td>\n",
       "      <td>0.3</td>\n",
       "      <td>942.87M</td>\n",
       "      <td>911.1M</td>\n",
       "      <td>VTR</td>\n",
       "      <td>82514000.0</td>\n",
       "      <td>...</td>\n",
       "      <td>61.23</td>\n",
       "      <td>61.9900</td>\n",
       "      <td>60.96</td>\n",
       "      <td>61.53</td>\n",
       "      <td>2198358.0</td>\n",
       "      <td>61.75</td>\n",
       "      <td>62.58</td>\n",
       "      <td>61.4650</td>\n",
       "      <td>62.48</td>\n",
       "      <td>1767991.0</td>\n",
       "    </tr>\n",
       "    <tr>\n",
       "      <th>4</th>\n",
       "      <td>4</td>\n",
       "      <td>4</td>\n",
       "      <td>2019-02-08</td>\n",
       "      <td>2018-12-01</td>\n",
       "      <td>0.17</td>\n",
       "      <td>0.35</td>\n",
       "      <td>923.26M</td>\n",
       "      <td>909.59M</td>\n",
       "      <td>VTR</td>\n",
       "      <td>72277000.0</td>\n",
       "      <td>...</td>\n",
       "      <td>64.29</td>\n",
       "      <td>64.9236</td>\n",
       "      <td>64.02</td>\n",
       "      <td>64.74</td>\n",
       "      <td>2043458.0</td>\n",
       "      <td>64.98</td>\n",
       "      <td>65.25</td>\n",
       "      <td>64.6400</td>\n",
       "      <td>65.21</td>\n",
       "      <td>1925856.0</td>\n",
       "    </tr>\n",
       "  </tbody>\n",
       "</table>\n",
       "<p>5 rows × 179 columns</p>\n",
       "</div>"
      ],
      "text/plain": [
       "   Unnamed: 0  Unnamed: 0.1 Release Date  Period End   EPS Forecast  Revenue  \\\n",
       "0           0             0   2020-02-20  2019-12-01    --     0.28       --   \n",
       "1           1             1   2019-10-25  2019-09-01  0.23     0.32  983.16M   \n",
       "2           2             2   2019-07-26  2019-06-01  0.58     0.32  950.72M   \n",
       "3           3             3   2019-04-26  2019-03-01  0.35      0.3  942.87M   \n",
       "4           4             4   2019-02-08  2018-12-01  0.17     0.35  923.26M   \n",
       "\n",
       "  Forecast.1 ticker  Cash and cash equivalents       ...         \\\n",
       "0    968.66M    VTR                        0.0       ...          \n",
       "1    931.93M    VTR                148063000.0       ...          \n",
       "2    922.96M    VTR                 81987000.0       ...          \n",
       "3     911.1M    VTR                 82514000.0       ...          \n",
       "4    909.59M    VTR                 72277000.0       ...          \n",
       "\n",
       "   4d_after_open  4d_after_high  4d_after_low  4d_after_close  \\\n",
       "0           0.00         0.0000          0.00            0.00   \n",
       "1          65.21        65.7100         64.63           65.10   \n",
       "2          67.33        67.9500         66.51           67.67   \n",
       "3          61.23        61.9900         60.96           61.53   \n",
       "4          64.29        64.9236         64.02           64.74   \n",
       "\n",
       "   4d_after_volume  5d_after_open  5d_after_high  5d_after_low  \\\n",
       "0              0.0           0.00           0.00        0.0000   \n",
       "1        2122092.0          65.12          65.30       63.1488   \n",
       "2        2069256.0          67.76          69.18       67.7600   \n",
       "3        2198358.0          61.75          62.58       61.4650   \n",
       "4        2043458.0          64.98          65.25       64.6400   \n",
       "\n",
       "   5d_after_close  5d_after_volume  \n",
       "0            0.00              0.0  \n",
       "1           64.03        2114593.0  \n",
       "2           68.83        1749714.0  \n",
       "3           62.48        1767991.0  \n",
       "4           65.21        1925856.0  \n",
       "\n",
       "[5 rows x 179 columns]"
      ]
     },
     "execution_count": 24,
     "metadata": {},
     "output_type": "execute_result"
    }
   ],
   "source": [
    "data = pd.read_csv('data_final_5d.csv')\n",
    "data.head()"
   ]
  },
  {
   "cell_type": "markdown",
   "metadata": {},
   "source": [
    "## General"
   ]
  },
  {
   "cell_type": "code",
   "execution_count": 25,
   "metadata": {},
   "outputs": [
    {
     "name": "stdout",
     "output_type": "stream",
     "text": [
      "<class 'pandas.core.frame.DataFrame'>\n",
      "RangeIndex: 10663 entries, 0 to 10662\n",
      "Columns: 177 entries, release_date to 5d_after_volume\n",
      "dtypes: float64(170), object(7)\n",
      "memory usage: 14.4+ MB\n"
     ]
    }
   ],
   "source": [
    "data.drop(['Unnamed: 0', 'Unnamed: 0.1'], axis=1, inplace=True)\n",
    "data.columns = data.columns.str.replace(' ', '_')\n",
    "data.columns = data.columns.str.lower()\n",
    "\n",
    "data.rename(columns={\"forecast\": \"eps_forecast\", \n",
    "                     \"forecast.1\": \"revenue_forecast\"}, \n",
    "            inplace=True)\n",
    "\n",
    "data.info()"
   ]
  },
  {
   "cell_type": "markdown",
   "metadata": {},
   "source": [
    "DataFrame consists of 7 object-type columns, let's look on them."
   ]
  },
  {
   "cell_type": "code",
   "execution_count": 26,
   "metadata": {
    "scrolled": true
   },
   "outputs": [
    {
     "data": {
      "text/html": [
       "<div>\n",
       "<style scoped>\n",
       "    .dataframe tbody tr th:only-of-type {\n",
       "        vertical-align: middle;\n",
       "    }\n",
       "\n",
       "    .dataframe tbody tr th {\n",
       "        vertical-align: top;\n",
       "    }\n",
       "\n",
       "    .dataframe thead th {\n",
       "        text-align: right;\n",
       "    }\n",
       "</style>\n",
       "<table border=\"1\" class=\"dataframe\">\n",
       "  <thead>\n",
       "    <tr style=\"text-align: right;\">\n",
       "      <th></th>\n",
       "      <th>release_date</th>\n",
       "      <th>period_end</th>\n",
       "      <th>eps</th>\n",
       "      <th>eps_forecast</th>\n",
       "      <th>revenue</th>\n",
       "      <th>revenue_forecast</th>\n",
       "      <th>ticker</th>\n",
       "    </tr>\n",
       "  </thead>\n",
       "  <tbody>\n",
       "    <tr>\n",
       "      <th>0</th>\n",
       "      <td>2020-02-20</td>\n",
       "      <td>2019-12-01</td>\n",
       "      <td>--</td>\n",
       "      <td>0.28</td>\n",
       "      <td>--</td>\n",
       "      <td>968.66M</td>\n",
       "      <td>VTR</td>\n",
       "    </tr>\n",
       "    <tr>\n",
       "      <th>1</th>\n",
       "      <td>2019-10-25</td>\n",
       "      <td>2019-09-01</td>\n",
       "      <td>0.23</td>\n",
       "      <td>0.32</td>\n",
       "      <td>983.16M</td>\n",
       "      <td>931.93M</td>\n",
       "      <td>VTR</td>\n",
       "    </tr>\n",
       "    <tr>\n",
       "      <th>2</th>\n",
       "      <td>2019-07-26</td>\n",
       "      <td>2019-06-01</td>\n",
       "      <td>0.58</td>\n",
       "      <td>0.32</td>\n",
       "      <td>950.72M</td>\n",
       "      <td>922.96M</td>\n",
       "      <td>VTR</td>\n",
       "    </tr>\n",
       "    <tr>\n",
       "      <th>3</th>\n",
       "      <td>2019-04-26</td>\n",
       "      <td>2019-03-01</td>\n",
       "      <td>0.35</td>\n",
       "      <td>0.3</td>\n",
       "      <td>942.87M</td>\n",
       "      <td>911.1M</td>\n",
       "      <td>VTR</td>\n",
       "    </tr>\n",
       "    <tr>\n",
       "      <th>4</th>\n",
       "      <td>2019-02-08</td>\n",
       "      <td>2018-12-01</td>\n",
       "      <td>0.17</td>\n",
       "      <td>0.35</td>\n",
       "      <td>923.26M</td>\n",
       "      <td>909.59M</td>\n",
       "      <td>VTR</td>\n",
       "    </tr>\n",
       "  </tbody>\n",
       "</table>\n",
       "</div>"
      ],
      "text/plain": [
       "  release_date  period_end   eps eps_forecast  revenue revenue_forecast ticker\n",
       "0   2020-02-20  2019-12-01    --         0.28       --          968.66M    VTR\n",
       "1   2019-10-25  2019-09-01  0.23         0.32  983.16M          931.93M    VTR\n",
       "2   2019-07-26  2019-06-01  0.58         0.32  950.72M          922.96M    VTR\n",
       "3   2019-04-26  2019-03-01  0.35          0.3  942.87M           911.1M    VTR\n",
       "4   2019-02-08  2018-12-01  0.17         0.35  923.26M          909.59M    VTR"
      ]
     },
     "execution_count": 26,
     "metadata": {},
     "output_type": "execute_result"
    }
   ],
   "source": [
    "data.select_dtypes(include='object').head()"
   ]
  },
  {
   "cell_type": "code",
   "execution_count": 27,
   "metadata": {},
   "outputs": [
    {
     "name": "stdout",
     "output_type": "stream",
     "text": [
      "<class 'pandas.core.frame.DataFrame'>\n",
      "Int64Index: 10144 entries, 1 to 10662\n",
      "Columns: 177 entries, release_date to 5d_after_volume\n",
      "dtypes: datetime64[ns](2), float64(174), object(1)\n",
      "memory usage: 13.8+ MB\n"
     ]
    }
   ],
   "source": [
    "def replace_sign(x):\n",
    "    if x[-1] == 'B':\n",
    "        return float(x[:-1])*1e9\n",
    "    if x[-1] == 'M':\n",
    "        return float(x[:-1])*1e6\n",
    "\n",
    "cols_date = ['release_date', 'period_end']\n",
    "data.loc[:, cols_date] = data[cols_date].apply(pd.to_datetime, \n",
    "                                    format='%Y-%m-%d %H:%M:%S.%f')\n",
    "\n",
    "revenue = ['revenue_forecast', 'revenue']\n",
    "data[revenue] = data[revenue].apply(lambda x: x.str.replace(',',''))\n",
    "data[revenue[0]] = data[revenue[0]].apply(replace_sign)\n",
    "data[revenue[1]] = data[revenue[1]].apply(replace_sign)\n",
    "\n",
    "eps = ['eps_forecast', 'eps']\n",
    "eps_idxs = data[data[eps[0]] == '--'].index\n",
    "epsf_idxs = data[data[eps[1]] == '--'].index\n",
    "bad_idxs = eps_idxs.append(epsf_idxs)\n",
    "data.drop(bad_idxs, inplace=True)\n",
    "\n",
    "data[revenue + eps] = data[revenue + eps].apply(pd.to_numeric, errors='coerce')\n",
    "\n",
    "data.info()"
   ]
  },
  {
   "cell_type": "markdown",
   "metadata": {},
   "source": [
    "## Handling zero values"
   ]
  },
  {
   "cell_type": "markdown",
   "metadata": {},
   "source": [
    "As out data is not pure and was scraped from various data sources, there is many missing and zero values. During training all features have to be floats or chars, not NaN. The abundance of zeros is another problem, because in many cases this is not informative (due to common practice replacing NaN values with zeros) makes it harder and longer to train a model."
   ]
  },
  {
   "cell_type": "code",
   "execution_count": 28,
   "metadata": {},
   "outputs": [],
   "source": [
    "def trouble_df(df):\n",
    "    zeros = df.isin([0]).sum()*100/data.shape[0]\n",
    "    nans = df.isna().sum()*100/data.shape[0]\n",
    "    trouble_vals = pd.concat((zeros.rename('zero_values, %'), \n",
    "                              nans.rename('NaN_values, %')), axis=1)\n",
    "    return trouble_vals"
   ]
  },
  {
   "cell_type": "code",
   "execution_count": 29,
   "metadata": {},
   "outputs": [
    {
     "data": {
      "text/html": [
       "<div>\n",
       "<style scoped>\n",
       "    .dataframe tbody tr th:only-of-type {\n",
       "        vertical-align: middle;\n",
       "    }\n",
       "\n",
       "    .dataframe tbody tr th {\n",
       "        vertical-align: top;\n",
       "    }\n",
       "\n",
       "    .dataframe thead th {\n",
       "        text-align: right;\n",
       "    }\n",
       "</style>\n",
       "<table border=\"1\" class=\"dataframe\">\n",
       "  <thead>\n",
       "    <tr style=\"text-align: right;\">\n",
       "      <th></th>\n",
       "      <th>zero_values, %</th>\n",
       "      <th>NaN_values, %</th>\n",
       "    </tr>\n",
       "  </thead>\n",
       "  <tbody>\n",
       "    <tr>\n",
       "      <th>net_cash/marketcap</th>\n",
       "      <td>97.643927</td>\n",
       "      <td>0.000000</td>\n",
       "    </tr>\n",
       "    <tr>\n",
       "      <th>other_assets</th>\n",
       "      <td>95.001972</td>\n",
       "      <td>0.374606</td>\n",
       "    </tr>\n",
       "    <tr>\n",
       "      <th>deposit_liabilities</th>\n",
       "      <td>86.080442</td>\n",
       "      <td>0.009858</td>\n",
       "    </tr>\n",
       "    <tr>\n",
       "      <th>r&amp;d_expense_growth</th>\n",
       "      <td>74.043770</td>\n",
       "      <td>0.088722</td>\n",
       "    </tr>\n",
       "    <tr>\n",
       "      <th>r&amp;d_to_revenue</th>\n",
       "      <td>73.698738</td>\n",
       "      <td>0.088722</td>\n",
       "    </tr>\n",
       "    <tr>\n",
       "      <th>acquisitions_and_disposals</th>\n",
       "      <td>71.332808</td>\n",
       "      <td>0.019716</td>\n",
       "    </tr>\n",
       "    <tr>\n",
       "      <th>deferred_revenue</th>\n",
       "      <td>61.080442</td>\n",
       "      <td>0.009858</td>\n",
       "    </tr>\n",
       "    <tr>\n",
       "      <th>long-term_investments</th>\n",
       "      <td>54.593849</td>\n",
       "      <td>0.384464</td>\n",
       "    </tr>\n",
       "    <tr>\n",
       "      <th>tax_assets</th>\n",
       "      <td>44.489353</td>\n",
       "      <td>0.009858</td>\n",
       "    </tr>\n",
       "    <tr>\n",
       "      <th>tax_liabilities</th>\n",
       "      <td>43.099369</td>\n",
       "      <td>0.009858</td>\n",
       "    </tr>\n",
       "  </tbody>\n",
       "</table>\n",
       "</div>"
      ],
      "text/plain": [
       "                            zero_values, %  NaN_values, %\n",
       "net_cash/marketcap               97.643927       0.000000\n",
       "other_assets                     95.001972       0.374606\n",
       "deposit_liabilities              86.080442       0.009858\n",
       "r&d_expense_growth               74.043770       0.088722\n",
       "r&d_to_revenue                   73.698738       0.088722\n",
       "acquisitions_and_disposals       71.332808       0.019716\n",
       "deferred_revenue                 61.080442       0.009858\n",
       "long-term_investments            54.593849       0.384464\n",
       "tax_assets                       44.489353       0.009858\n",
       "tax_liabilities                  43.099369       0.009858"
      ]
     },
     "execution_count": 29,
     "metadata": {},
     "output_type": "execute_result"
    }
   ],
   "source": [
    "trouble_vals = trouble_df(data)\n",
    "zeros = trouble_vals.sort_values(by='zero_values, %', \n",
    "                         ascending=False)\n",
    "zeros.head(10)"
   ]
  },
  {
   "cell_type": "markdown",
   "metadata": {},
   "source": [
    "Let's look on the columns. 0 dividend payments could be helpful values too. Other features seem to be less important or their values could be calculated having some base features"
   ]
  },
  {
   "cell_type": "code",
   "execution_count": 30,
   "metadata": {},
   "outputs": [
    {
     "data": {
      "text/plain": [
       "<matplotlib.axes._subplots.AxesSubplot at 0x272464284e0>"
      ]
     },
     "execution_count": 30,
     "metadata": {},
     "output_type": "execute_result"
    },
    {
     "data": {
      "image/png": "[encoded data removed]",
      "text/plain": [
       "<Figure size 432x288 with 1 Axes>"
      ]
     },
     "metadata": {
      "needs_background": "light"
     },
     "output_type": "display_data"
    }
   ],
   "source": [
    "# all fundamental features\n",
    "fundamentals = data.columns.tolist()[7:122]\n",
    "zeros_in_rows = data[fundamentals].isin([0]).sum(axis=1).sort_values()\n",
    "zeros_in_rows.hist(bins=100)"
   ]
  },
  {
   "cell_type": "markdown",
   "metadata": {},
   "source": [
    "Drop that rows with large number of zeros in fundamental features."
   ]
  },
  {
   "cell_type": "code",
   "execution_count": 31,
   "metadata": {},
   "outputs": [
    {
     "data": {
      "text/plain": [
       "(9049, 177)"
      ]
     },
     "execution_count": 31,
     "metadata": {},
     "output_type": "execute_result"
    }
   ],
   "source": [
    "idxs_many_zeros = zeros_in_rows[zeros_in_rows > 40].index\n",
    "data.drop(idxs_many_zeros, inplace=True)\n",
    "data.reset_index(drop=True, inplace=True)\n",
    "data.shape"
   ]
  },
  {
   "cell_type": "markdown",
   "metadata": {},
   "source": [
    "First we drop columns with very high rate (let it be 30%) of zero values. Then it's worth to drop all rows where prices are zero, because in this case we couldn't label data for machine learning models."
   ]
  },
  {
   "cell_type": "code",
   "execution_count": 33,
   "metadata": {},
   "outputs": [
    {
     "data": {
      "text/plain": [
       "Index(['net_cash/marketcap', 'other_assets', 'deposit_liabilities',\n",
       "       'r&d_expense_growth', 'r&d_to_revenue', 'acquisitions_and_disposals',\n",
       "       'deferred_revenue', 'long-term_investments', 'tax_assets',\n",
       "       'tax_liabilities', 'inventories', 'ptb_ratio', 'inventory_growth',\n",
       "       'effect_of_forex_changes_on_cash', 'average_inventory',\n",
       "       'other_comprehensive_income', 'dividends_per_share_growth',\n",
       "       'short-term_investments', 'investment_purchases_and_sales',\n",
       "       'stock-based_compensation_to_revenue', 'issuance_(repayment)_of_debt'],\n",
       "      dtype='object')"
      ]
     },
     "execution_count": 33,
     "metadata": {},
     "output_type": "execute_result"
    }
   ],
   "source": [
    "to_drop_potential = zeros[zeros['zero_values, %'] > 30].index\n",
    "to_drop_potential"
   ]
  },
  {
   "cell_type": "code",
   "execution_count": 34,
   "metadata": {},
   "outputs": [
    {
     "data": {
      "text/plain": [
       "(9049, 156)"
      ]
     },
     "execution_count": 34,
     "metadata": {},
     "output_type": "execute_result"
    }
   ],
   "source": [
    "data.drop(to_drop_potential, axis=1, inplace=True)\n",
    "data.shape"
   ]
  },
  {
   "cell_type": "code",
   "execution_count": 59,
   "metadata": {},
   "outputs": [
    {
     "data": {
      "text/plain": [
       "936     55\n",
       "1018    55\n",
       "1019    55\n",
       "1020    55\n",
       "1021    55\n",
       "1022    55\n",
       "1023    55\n",
       "1024    55\n",
       "1025    55\n",
       "1026    55\n",
       "1027    55\n",
       "1028    55\n",
       "1029    55\n",
       "1030    55\n",
       "1031    55\n",
       "1032    55\n",
       "1033    55\n",
       "1034    55\n",
       "1035    55\n",
       "1036    55\n",
       "1037    55\n",
       "2392    55\n",
       "3347    55\n",
       "3544    55\n",
       "3632    55\n",
       "4695    55\n",
       "4696    55\n",
       "4697    55\n",
       "4698    55\n",
       "4699    55\n",
       "4700    55\n",
       "5880    55\n",
       "5881    55\n",
       "5882    55\n",
       "5883    55\n",
       "5884    55\n",
       "5885    55\n",
       "5886    55\n",
       "5887    55\n",
       "5888    55\n",
       "5889    55\n",
       "5890    55\n",
       "5891    55\n",
       "5892    55\n",
       "5893    55\n",
       "5894    55\n",
       "5895    55\n",
       "7721    55\n",
       "7902    55\n",
       "dtype: int64"
      ]
     },
     "execution_count": 59,
     "metadata": {},
     "output_type": "execute_result"
    }
   ],
   "source": [
    "cols = data.columns.tolist()\n",
    "price_related = cols[cols.index('5d_before_open'):]\n",
    "sub_df = data[price_related][data['5d_before_open'] == 0]\n",
    "sub_df.eq(0).sum(axis=1)"
   ]
  },
  {
   "cell_type": "markdown",
   "metadata": {},
   "source": [
    "As we can see if at least one price is missed in a row, the row doesn't have price information at all!"
   ]
  },
  {
   "cell_type": "code",
   "execution_count": 64,
   "metadata": {},
   "outputs": [
    {
     "data": {
      "text/plain": [
       "Int64Index([ 936, 1018, 1019, 1020, 1021, 1022, 1023, 1024, 1025, 1026, 1027,\n",
       "            1028, 1029, 1030, 1031, 1032, 1033, 1034, 1035, 1036, 1037, 2392,\n",
       "            3347, 3544, 3632, 4695, 4696, 4697, 4698, 4699, 4700, 5880, 5881,\n",
       "            5882, 5883, 5884, 5885, 5886, 5887, 5888, 5889, 5890, 5891, 5892,\n",
       "            5893, 5894, 5895, 7721, 7902],\n",
       "           dtype='int64')"
      ]
     },
     "execution_count": 64,
     "metadata": {},
     "output_type": "execute_result"
    }
   ],
   "source": [
    "zeros_idxs = sub_df.index\n",
    "zeros_idxs"
   ]
  },
  {
   "cell_type": "markdown",
   "metadata": {},
   "source": [
    "For some indexes there is no any price information at all. In this case we couldn't just fill them with reasonable prices. For other tickers where only a few price-related rows were missed we could find approximate prices from nearest releases for particular company."
   ]
  },
  {
   "cell_type": "code",
   "execution_count": 65,
   "metadata": {},
   "outputs": [],
   "source": [
    "# handling single missings\n",
    "def find_price(df, idx, cols):\n",
    "    \"\"\"\n",
    "    cols - names of price-related columns in df\n",
    "    idx - index of row where prices are missed\n",
    "    \"\"\"\n",
    "    # first we check last release for particular company\n",
    "    if df.loc[idx + 1,:]['ticker'] == df.loc[idx,:]['ticker']:\n",
    "        df.loc[idx, cols] = df.loc[idx + 1, cols]\n",
    "    # if there is no relevant information in the past\n",
    "    # we \"see the future\" and choose most relevant information \n",
    "    if df.loc[idx - 1,:]['ticker'] == df.loc[idx,:]['ticker']:\n",
    "        df.loc[idx, cols] = df.loc[idx - 1, cols]\n",
    "    return df\n",
    "\n",
    "single_missings = np.array([936, 2392, 3347, 3544, 3632, 7721, 7902])\n",
    "for idx in single_missings:\n",
    "    data = find_price(data, idx, price_related)\n",
    "\n",
    "# handling multiple missings\n",
    "to_drop = set(zeros_idxs) - set(single_missings)\n",
    "data.drop(to_drop, inplace=True)\n",
    "data.reset_index(drop=True, inplace=True)"
   ]
  },
  {
   "cell_type": "markdown",
   "metadata": {},
   "source": [
    "## Handling missing values"
   ]
  },
  {
   "cell_type": "code",
   "execution_count": 68,
   "metadata": {},
   "outputs": [
    {
     "data": {
      "text/html": [
       "<div>\n",
       "<style scoped>\n",
       "    .dataframe tbody tr th:only-of-type {\n",
       "        vertical-align: middle;\n",
       "    }\n",
       "\n",
       "    .dataframe tbody tr th {\n",
       "        vertical-align: top;\n",
       "    }\n",
       "\n",
       "    .dataframe thead th {\n",
       "        text-align: right;\n",
       "    }\n",
       "</style>\n",
       "<table border=\"1\" class=\"dataframe\">\n",
       "  <thead>\n",
       "    <tr style=\"text-align: right;\">\n",
       "      <th></th>\n",
       "      <th>zero_values, %</th>\n",
       "      <th>NaN_values, %</th>\n",
       "    </tr>\n",
       "  </thead>\n",
       "  <tbody>\n",
       "    <tr>\n",
       "      <th>weighted_average_shares_diluted_growth</th>\n",
       "      <td>1.310092</td>\n",
       "      <td>20.217609</td>\n",
       "    </tr>\n",
       "    <tr>\n",
       "      <th>current_ratio</th>\n",
       "      <td>0.000000</td>\n",
       "      <td>18.974131</td>\n",
       "    </tr>\n",
       "    <tr>\n",
       "      <th>working_capital</th>\n",
       "      <td>0.011102</td>\n",
       "      <td>18.974131</td>\n",
       "    </tr>\n",
       "    <tr>\n",
       "      <th>net_debt_to_ebitda</th>\n",
       "      <td>0.011102</td>\n",
       "      <td>15.565671</td>\n",
       "    </tr>\n",
       "    <tr>\n",
       "      <th>net_current_asset_value</th>\n",
       "      <td>0.011102</td>\n",
       "      <td>15.388032</td>\n",
       "    </tr>\n",
       "    <tr>\n",
       "      <th>revenue</th>\n",
       "      <td>0.000000</td>\n",
       "      <td>2.942156</td>\n",
       "    </tr>\n",
       "    <tr>\n",
       "      <th>ev_to_operating_cash_flow</th>\n",
       "      <td>0.000000</td>\n",
       "      <td>0.566226</td>\n",
       "    </tr>\n",
       "    <tr>\n",
       "      <th>graham_net-net</th>\n",
       "      <td>0.011102</td>\n",
       "      <td>0.566226</td>\n",
       "    </tr>\n",
       "    <tr>\n",
       "      <th>ev_to_free_cash_flow</th>\n",
       "      <td>0.000000</td>\n",
       "      <td>0.566226</td>\n",
       "    </tr>\n",
       "    <tr>\n",
       "      <th>ev_to_sales</th>\n",
       "      <td>0.000000</td>\n",
       "      <td>0.566226</td>\n",
       "    </tr>\n",
       "  </tbody>\n",
       "</table>\n",
       "</div>"
      ],
      "text/plain": [
       "                                        zero_values, %  NaN_values, %\n",
       "weighted_average_shares_diluted_growth        1.310092      20.217609\n",
       "current_ratio                                 0.000000      18.974131\n",
       "working_capital                               0.011102      18.974131\n",
       "net_debt_to_ebitda                            0.011102      15.565671\n",
       "net_current_asset_value                       0.011102      15.388032\n",
       "revenue                                       0.000000       2.942156\n",
       "ev_to_operating_cash_flow                     0.000000       0.566226\n",
       "graham_net-net                                0.011102       0.566226\n",
       "ev_to_free_cash_flow                          0.000000       0.566226\n",
       "ev_to_sales                                   0.000000       0.566226"
      ]
     },
     "execution_count": 68,
     "metadata": {},
     "output_type": "execute_result"
    }
   ],
   "source": [
    "trouble_vals = trouble_df(data)\n",
    "nans = trouble_vals.sort_values(by='NaN_values, %', \n",
    "                                ascending=False)\n",
    "nans.head(10)"
   ]
  },
  {
   "cell_type": "markdown",
   "metadata": {},
   "source": [
    "Drop top 5 columns with highest rate of nan values, because it's unlikely we can reliably fill so much values."
   ]
  },
  {
   "cell_type": "code",
   "execution_count": 69,
   "metadata": {},
   "outputs": [],
   "source": [
    "many_nans_cols = nans.iloc[:5].index\n",
    "data.drop(many_nans_cols, axis=1, inplace=True)"
   ]
  },
  {
   "cell_type": "markdown",
   "metadata": {},
   "source": [
    "In my point of view Revenue is quate an important feature, so we don't want to lose it. Let's fill it with nearest not-null value for each company."
   ]
  },
  {
   "cell_type": "code",
   "execution_count": 70,
   "metadata": {},
   "outputs": [
    {
     "data": {
      "text/html": [
       "<div>\n",
       "<style scoped>\n",
       "    .dataframe tbody tr th:only-of-type {\n",
       "        vertical-align: middle;\n",
       "    }\n",
       "\n",
       "    .dataframe tbody tr th {\n",
       "        vertical-align: top;\n",
       "    }\n",
       "\n",
       "    .dataframe thead th {\n",
       "        text-align: right;\n",
       "    }\n",
       "</style>\n",
       "<table border=\"1\" class=\"dataframe\">\n",
       "  <thead>\n",
       "    <tr style=\"text-align: right;\">\n",
       "      <th></th>\n",
       "      <th>release_date</th>\n",
       "      <th>period_end</th>\n",
       "      <th>eps</th>\n",
       "      <th>eps_forecast</th>\n",
       "      <th>revenue</th>\n",
       "      <th>revenue_forecast</th>\n",
       "      <th>ticker</th>\n",
       "      <th>cash_and_cash_equivalents</th>\n",
       "      <th>cash_and_short-term_investments</th>\n",
       "      <th>goodwill_and_intangible_assets</th>\n",
       "      <th>...</th>\n",
       "      <th>4d_after_open</th>\n",
       "      <th>4d_after_high</th>\n",
       "      <th>4d_after_low</th>\n",
       "      <th>4d_after_close</th>\n",
       "      <th>4d_after_volume</th>\n",
       "      <th>5d_after_open</th>\n",
       "      <th>5d_after_high</th>\n",
       "      <th>5d_after_low</th>\n",
       "      <th>5d_after_close</th>\n",
       "      <th>5d_after_volume</th>\n",
       "    </tr>\n",
       "  </thead>\n",
       "  <tbody>\n",
       "    <tr>\n",
       "      <th>22</th>\n",
       "      <td>2014-04-25</td>\n",
       "      <td>2014-03-01</td>\n",
       "      <td>0.41</td>\n",
       "      <td>0.40</td>\n",
       "      <td>NaN</td>\n",
       "      <td>7.255600e+08</td>\n",
       "      <td>VTR</td>\n",
       "      <td>5.979100e+07</td>\n",
       "      <td>5.979100e+07</td>\n",
       "      <td>0.000000e+00</td>\n",
       "      <td>...</td>\n",
       "      <td>65.99</td>\n",
       "      <td>66.6500</td>\n",
       "      <td>65.7300</td>\n",
       "      <td>66.64</td>\n",
       "      <td>1448600.0</td>\n",
       "      <td>66.36</td>\n",
       "      <td>66.58</td>\n",
       "      <td>65.99</td>\n",
       "      <td>66.54</td>\n",
       "      <td>1430400.0</td>\n",
       "    </tr>\n",
       "    <tr>\n",
       "      <th>100</th>\n",
       "      <td>2014-07-14</td>\n",
       "      <td>2014-06-01</td>\n",
       "      <td>1.24</td>\n",
       "      <td>1.05</td>\n",
       "      <td>NaN</td>\n",
       "      <td>1.893400e+10</td>\n",
       "      <td>C</td>\n",
       "      <td>3.526800e+10</td>\n",
       "      <td>3.526800e+10</td>\n",
       "      <td>2.978900e+10</td>\n",
       "      <td>...</td>\n",
       "      <td>49.49</td>\n",
       "      <td>49.8100</td>\n",
       "      <td>49.3100</td>\n",
       "      <td>49.56</td>\n",
       "      <td>15453900.0</td>\n",
       "      <td>49.16</td>\n",
       "      <td>49.47</td>\n",
       "      <td>49.07</td>\n",
       "      <td>49.35</td>\n",
       "      <td>10920200.0</td>\n",
       "    </tr>\n",
       "    <tr>\n",
       "      <th>180</th>\n",
       "      <td>2016-05-02</td>\n",
       "      <td>2016-03-01</td>\n",
       "      <td>0.57</td>\n",
       "      <td>0.52</td>\n",
       "      <td>NaN</td>\n",
       "      <td>NaN</td>\n",
       "      <td>L</td>\n",
       "      <td>3.080000e+08</td>\n",
       "      <td>4.056300e+10</td>\n",
       "      <td>0.000000e+00</td>\n",
       "      <td>...</td>\n",
       "      <td>39.56</td>\n",
       "      <td>39.8300</td>\n",
       "      <td>39.5050</td>\n",
       "      <td>39.66</td>\n",
       "      <td>922231.0</td>\n",
       "      <td>39.57</td>\n",
       "      <td>39.76</td>\n",
       "      <td>39.41</td>\n",
       "      <td>39.42</td>\n",
       "      <td>926435.0</td>\n",
       "    </tr>\n",
       "    <tr>\n",
       "      <th>183</th>\n",
       "      <td>2015-08-03</td>\n",
       "      <td>2015-06-01</td>\n",
       "      <td>0.58</td>\n",
       "      <td>0.70</td>\n",
       "      <td>NaN</td>\n",
       "      <td>NaN</td>\n",
       "      <td>L</td>\n",
       "      <td>2.490000e+08</td>\n",
       "      <td>4.009900e+10</td>\n",
       "      <td>0.000000e+00</td>\n",
       "      <td>...</td>\n",
       "      <td>37.86</td>\n",
       "      <td>38.1400</td>\n",
       "      <td>37.8401</td>\n",
       "      <td>37.94</td>\n",
       "      <td>1447072.0</td>\n",
       "      <td>38.15</td>\n",
       "      <td>39.05</td>\n",
       "      <td>38.11</td>\n",
       "      <td>39.05</td>\n",
       "      <td>2021663.0</td>\n",
       "    </tr>\n",
       "    <tr>\n",
       "      <th>184</th>\n",
       "      <td>2015-05-04</td>\n",
       "      <td>2015-03-01</td>\n",
       "      <td>0.59</td>\n",
       "      <td>0.75</td>\n",
       "      <td>NaN</td>\n",
       "      <td>NaN</td>\n",
       "      <td>L</td>\n",
       "      <td>2.710000e+08</td>\n",
       "      <td>4.085400e+10</td>\n",
       "      <td>0.000000e+00</td>\n",
       "      <td>...</td>\n",
       "      <td>41.48</td>\n",
       "      <td>41.5675</td>\n",
       "      <td>41.1100</td>\n",
       "      <td>41.42</td>\n",
       "      <td>1044174.0</td>\n",
       "      <td>41.37</td>\n",
       "      <td>41.42</td>\n",
       "      <td>41.02</td>\n",
       "      <td>41.15</td>\n",
       "      <td>1334399.0</td>\n",
       "    </tr>\n",
       "  </tbody>\n",
       "</table>\n",
       "<p>5 rows × 151 columns</p>\n",
       "</div>"
      ],
      "text/plain": [
       "    release_date period_end   eps  eps_forecast  revenue  revenue_forecast  \\\n",
       "22    2014-04-25 2014-03-01  0.41          0.40      NaN      7.255600e+08   \n",
       "100   2014-07-14 2014-06-01  1.24          1.05      NaN      1.893400e+10   \n",
       "180   2016-05-02 2016-03-01  0.57          0.52      NaN               NaN   \n",
       "183   2015-08-03 2015-06-01  0.58          0.70      NaN               NaN   \n",
       "184   2015-05-04 2015-03-01  0.59          0.75      NaN               NaN   \n",
       "\n",
       "    ticker  cash_and_cash_equivalents  cash_and_short-term_investments  \\\n",
       "22     VTR               5.979100e+07                     5.979100e+07   \n",
       "100      C               3.526800e+10                     3.526800e+10   \n",
       "180      L               3.080000e+08                     4.056300e+10   \n",
       "183      L               2.490000e+08                     4.009900e+10   \n",
       "184      L               2.710000e+08                     4.085400e+10   \n",
       "\n",
       "     goodwill_and_intangible_assets       ...         4d_after_open  \\\n",
       "22                     0.000000e+00       ...                 65.99   \n",
       "100                    2.978900e+10       ...                 49.49   \n",
       "180                    0.000000e+00       ...                 39.56   \n",
       "183                    0.000000e+00       ...                 37.86   \n",
       "184                    0.000000e+00       ...                 41.48   \n",
       "\n",
       "     4d_after_high  4d_after_low  4d_after_close  4d_after_volume  \\\n",
       "22         66.6500       65.7300           66.64        1448600.0   \n",
       "100        49.8100       49.3100           49.56       15453900.0   \n",
       "180        39.8300       39.5050           39.66         922231.0   \n",
       "183        38.1400       37.8401           37.94        1447072.0   \n",
       "184        41.5675       41.1100           41.42        1044174.0   \n",
       "\n",
       "     5d_after_open  5d_after_high  5d_after_low  5d_after_close  \\\n",
       "22           66.36          66.58         65.99           66.54   \n",
       "100          49.16          49.47         49.07           49.35   \n",
       "180          39.57          39.76         39.41           39.42   \n",
       "183          38.15          39.05         38.11           39.05   \n",
       "184          41.37          41.42         41.02           41.15   \n",
       "\n",
       "     5d_after_volume  \n",
       "22         1430400.0  \n",
       "100       10920200.0  \n",
       "180         926435.0  \n",
       "183        2021663.0  \n",
       "184        1334399.0  \n",
       "\n",
       "[5 rows x 151 columns]"
      ]
     },
     "execution_count": 70,
     "metadata": {},
     "output_type": "execute_result"
    }
   ],
   "source": [
    "data[data['revenue'].isna()].head()"
   ]
  },
  {
   "cell_type": "code",
   "execution_count": 71,
   "metadata": {},
   "outputs": [],
   "source": [
    "tickers_nans = data[pd.isnull(data).any(axis=1)]['ticker'].unique()\n",
    "for ticker in tickers_nans:\n",
    "    data[data['ticker'] == ticker] = data[data['ticker'] == ticker].ffill()"
   ]
  },
  {
   "cell_type": "code",
   "execution_count": 72,
   "metadata": {},
   "outputs": [
    {
     "data": {
      "text/plain": [
       "Int64Index([ 166,  167,  168,  169,  170,  171,  172,  173,  174,  175,  176,\n",
       "             177,  178,  179,  180,  181,  182,  183,  184,  185,  186,  187,\n",
       "             467, 1323, 1324, 1325, 1326, 1327, 1328, 1329, 1330, 1331, 1332,\n",
       "            1333, 1334, 1335, 1336, 1337, 1338, 1339, 1340, 1341, 1342, 1343,\n",
       "            1344, 4323, 4963, 4964, 4965, 4966, 4967, 5534, 5535, 5536, 5537,\n",
       "            5538, 5539, 5540, 5541, 5542, 5543, 5544, 5545, 5546, 5547, 5548,\n",
       "            5549, 5550, 5551, 5552, 5553, 5554, 5937, 5938, 5939, 8781, 8782,\n",
       "            8783],\n",
       "           dtype='int64')"
      ]
     },
     "execution_count": 72,
     "metadata": {},
     "output_type": "execute_result"
    }
   ],
   "source": [
    "idxs = data[pd.isnull(data).any(axis=1)].index\n",
    "idxs"
   ]
  },
  {
   "cell_type": "markdown",
   "metadata": {},
   "source": [
    "Now there are about 80 rows with nan values which is less than 1% of an entire dataset. During modelling step I want to replace values in rows with percentage change during the time between report releases. If we replace nan with zeros, it could produce unreliable percentage changes (say, 10000 in assets of this year and 0 in assets last year would lead to infinite change in assets, because we filled nan with 0), so it's much better to drop this rows than inventing a wheel."
   ]
  },
  {
   "cell_type": "code",
   "execution_count": 74,
   "metadata": {},
   "outputs": [],
   "source": [
    "data.drop(idxs, inplace=True)\n",
    "data.reset_index(drop=True, inplace=True)"
   ]
  },
  {
   "cell_type": "markdown",
   "metadata": {},
   "source": [
    "## Remove correlation "
   ]
  },
  {
   "cell_type": "markdown",
   "metadata": {},
   "source": [
    "Let's remove correlated fundamental features. First of all, create correlation matrix for any particular company and assume that correlation between columns preserves at the same level for all other companies."
   ]
  },
  {
   "cell_type": "code",
   "execution_count": 77,
   "metadata": {},
   "outputs": [
    {
     "data": {
      "text/plain": [
       "shareholders_equity_per_share    book_value_per_share               1.000000\n",
       "book_value_per_share             shareholders_equity_per_share      1.000000\n",
       "-_cash_&_cash_equivalents        cash_per_share                     0.999973\n",
       "cash_and_cash_equivalents        cash_per_share                     0.999973\n",
       "cash_per_share                   -_cash_&_cash_equivalents          0.999973\n",
       "                                 cash_and_cash_equivalents          0.999973\n",
       "eps_growth                       eps_diluted_growth                 0.999602\n",
       "eps_diluted_growth               eps_growth                         0.999602\n",
       "pocf_ratio                       pfcf_ratio                         0.999600\n",
       "pfcf_ratio                       pocf_ratio                         0.999600\n",
       "stock_price                      market_capitalization              0.999526\n",
       "market_capitalization            stock_price                        0.999526\n",
       "ev_to_operating_cash_flow        ev_to_free_cash_flow               0.999486\n",
       "ev_to_free_cash_flow             ev_to_operating_cash_flow          0.999486\n",
       "tangible_book_value_per_share    tangible_asset_value               0.999278\n",
       "tangible_asset_value             tangible_book_value_per_share      0.999278\n",
       "cash_per_share                   cash_and_short-term_investments    0.999278\n",
       "cash_and_short-term_investments  cash_per_share                     0.999278\n",
       "interest_debt_per_share          total_debt                         0.999158\n",
       "                                 +_total_debt                       0.999158\n",
       "+_total_debt                     interest_debt_per_share            0.999158\n",
       "total_debt                       interest_debt_per_share            0.999158\n",
       "cash_and_cash_equivalents        cash_and_short-term_investments    0.999058\n",
       "-_cash_&_cash_equivalents        cash_and_short-term_investments    0.999058\n",
       "cash_and_short-term_investments  -_cash_&_cash_equivalents          0.999058\n",
       "                                 cash_and_cash_equivalents          0.999058\n",
       "net_income_growth                eps_diluted_growth                 0.998855\n",
       "eps_diluted_growth               net_income_growth                  0.998855\n",
       "eps_growth                       net_income_growth                  0.998707\n",
       "net_income_growth                eps_growth                         0.998707\n",
       "                                                                      ...   \n",
       "cash_per_share                   net_income_per_share               0.001714\n",
       "net_income_per_share             cash_per_share                     0.001714\n",
       "ev_to_sales                      short-term_debt                    0.001698\n",
       "short-term_debt                  ev_to_sales                        0.001698\n",
       "net_debt                         payout_ratio                       0.001570\n",
       "payout_ratio                     net_debt                           0.001570\n",
       "total_current_liabilities        price_to_sales_ratio               0.001560\n",
       "price_to_sales_ratio             total_current_liabilities          0.001560\n",
       "pocf_ratio                       average_receivables                0.001470\n",
       "average_receivables              pocf_ratio                         0.001470\n",
       "total_non-current_assets         book_value_per_share_growth        0.001369\n",
       "book_value_per_share_growth      total_non-current_assets           0.001369\n",
       "revenue_per_share                dividend_yield                     0.000946\n",
       "dividend_yield                   revenue_per_share                  0.000946\n",
       "debt_growth                      retained_earnings_(deficit)        0.000561\n",
       "retained_earnings_(deficit)      debt_growth                        0.000561\n",
       "debt_to_assets                   tangible_asset_value               0.000462\n",
       "tangible_asset_value             debt_to_assets                     0.000462\n",
       "property,_plant_&_equipment_net  capex_to_operating_cash_flow       0.000459\n",
       "capex_to_operating_cash_flow     property,_plant_&_equipment_net    0.000459\n",
       "graham_net-net                   net_income_per_share               0.000421\n",
       "net_income_per_share             graham_net-net                     0.000421\n",
       "-_cash_&_cash_equivalents        net_income_per_share               0.000365\n",
       "net_income_per_share             -_cash_&_cash_equivalents          0.000365\n",
       "                                 cash_and_cash_equivalents          0.000365\n",
       "cash_and_cash_equivalents        net_income_per_share               0.000365\n",
       "other_liabilities                graham_number                      0.000205\n",
       "graham_number                    other_liabilities                  0.000205\n",
       "cash_and_short-term_investments  property,_plant_&_equipment_net    0.000083\n",
       "property,_plant_&_equipment_net  cash_and_short-term_investments    0.000083\n",
       "Length: 7828, dtype: float64"
      ]
     },
     "execution_count": 77,
     "metadata": {},
     "output_type": "execute_result"
    }
   ],
   "source": [
    "all_features = data.columns.tolist()\n",
    "first = all_features.index('ticker') + 1\n",
    "last = all_features.index('5d_before_open')\n",
    "fundamentals = all_features[first:last]\n",
    "\n",
    "min_q = 9999\n",
    "min_ticker = data['ticker'][0]\n",
    "for i in data['ticker'].unique():\n",
    "    cur_q = data[data['ticker'] == i].isin([0]).sum().sum()\n",
    "    if cur_q < min_q:\n",
    "        min_q = cur_q\n",
    "        min_ticker = i\n",
    "\n",
    "cor_mat = data[data['ticker'] == min_ticker].loc[:, fundamentals].corr().abs()\n",
    "cor = cor_mat.unstack()\n",
    "cor = cor[cor < 1].sort_values(kind=\"quicksort\", ascending=False)\n",
    "cor"
   ]
  },
  {
   "cell_type": "markdown",
   "metadata": {},
   "source": [
    "As it common in finance, lots of features are highly correlated."
   ]
  },
  {
   "cell_type": "code",
   "execution_count": 85,
   "metadata": {
    "scrolled": false
   },
   "outputs": [
    {
     "data": {
      "text/plain": [
       "['cash_and_short-term_investments',\n",
       " 'receivables',\n",
       " 'total_assets',\n",
       " 'total_current_assets',\n",
       " 'total_debt',\n",
       " 'total_liabilities',\n",
       " 'total_non-current_assets',\n",
       " 'total_non-current_liabilities',\n",
       " 'total_shareholders_equity',\n",
       " 'dividend_payments',\n",
       " 'net_cash_flow_/_change_in_cash',\n",
       " 'operating_cash_flow',\n",
       " '+_total_debt',\n",
       " '-_cash_&_cash_equivalents',\n",
       " 'enterprise_value',\n",
       " 'market_capitalization',\n",
       " 'stock_price',\n",
       " 'book_value_per_share',\n",
       " 'cash_per_share',\n",
       " 'debt_to_assets',\n",
       " 'debt_to_equity',\n",
       " 'ev_to_free_cash_flow',\n",
       " 'ev_to_operating_cash_flow',\n",
       " 'ev_to_sales',\n",
       " 'earnings_yield',\n",
       " 'enterprise_value_over_ebitda',\n",
       " 'free_cash_flow_yield',\n",
       " 'graham_number',\n",
       " 'interest_coverage',\n",
       " 'interest_debt_per_share',\n",
       " 'invested_capital',\n",
       " 'market_cap',\n",
       " 'operating_cash_flow_per_share',\n",
       " 'pb_ratio',\n",
       " 'pe_ratio',\n",
       " 'pfcf_ratio',\n",
       " 'pocf_ratio',\n",
       " 'price_to_sales_ratio',\n",
       " 'revenue_per_share',\n",
       " 'sg&a_to_revenue',\n",
       " 'shareholders_equity_per_share',\n",
       " 'tangible_asset_value',\n",
       " 'tangible_book_value_per_share',\n",
       " 'eps_growth',\n",
       " 'gross_profit_growth',\n",
       " 'net_income_growth',\n",
       " 'operating_cash_flow_growth',\n",
       " 'operating_income_growth',\n",
       " 'sg&a_expenses_growth']"
      ]
     },
     "execution_count": 85,
     "metadata": {},
     "output_type": "execute_result"
    }
   ],
   "source": [
    "upper = cor_mat.where(np.triu(np.ones(cor_mat.shape), k=1).astype(np.bool))\n",
    "to_drop = [column for column in upper.columns if any(upper[column] > 0.9)]\n",
    "to_drop"
   ]
  },
  {
   "cell_type": "code",
   "execution_count": 86,
   "metadata": {},
   "outputs": [
    {
     "data": {
      "text/plain": [
       "(8929, 102)"
      ]
     },
     "execution_count": 86,
     "metadata": {},
     "output_type": "execute_result"
    }
   ],
   "source": [
    "data.drop(to_drop, axis=1, inplace=True)\n",
    "data.shape"
   ]
  },
  {
   "cell_type": "code",
   "execution_count": 87,
   "metadata": {},
   "outputs": [],
   "source": [
    "data.to_csv('data/processed/processed_data.csv', index=False)"
   ]
  },
  {
   "cell_type": "code",
   "execution_count": null,
   "metadata": {},
   "outputs": [],
   "source": []
  }
 ],
 "metadata": {
  "kernelspec": {
   "display_name": "Python 3",
   "language": "python",
   "name": "python3"
  },
  "language_info": {
   "codemirror_mode": {
    "name": "ipython",
    "version": 3
   },
   "file_extension": ".py",
   "mimetype": "text/x-python",
   "name": "python",
   "nbconvert_exporter": "python",
   "pygments_lexer": "ipython3",
   "version": "3.7.1"
  }
 },
 "nbformat": 4,
 "nbformat_minor": 2
}
